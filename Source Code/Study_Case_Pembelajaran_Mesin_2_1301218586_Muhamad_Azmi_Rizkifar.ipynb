{
  "nbformat": 4,
  "nbformat_minor": 0,
  "metadata": {
    "colab": {
      "provenance": []
    },
    "kernelspec": {
      "name": "python3",
      "display_name": "Python 3"
    },
    "language_info": {
      "name": "python"
    },
    "gpuClass": "standard"
  },
  "cells": [
    {
      "cell_type": "markdown",
      "source": [
        "# Muhamad Azmi Rizkifar (1301218586)\n",
        "# IFX-45-GAB"
      ],
      "metadata": {
        "id": "0hvWyu4TrqJC"
      }
    },
    {
      "cell_type": "code",
      "execution_count": null,
      "metadata": {
        "id": "0XSU7k7mrlgi",
        "colab": {
          "base_uri": "https://localhost:8080/"
        },
        "outputId": "9a9086b2-d452-4a8e-b434-05789ffa3e7a"
      },
      "outputs": [
        {
          "output_type": "stream",
          "name": "stdout",
          "text": [
            "Looking in indexes: https://pypi.org/simple, https://us-python.pkg.dev/colab-wheels/public/simple/\n",
            "Requirement already satisfied: kaleido in /usr/local/lib/python3.8/dist-packages (0.2.1)\n"
          ]
        }
      ],
      "source": [
        "# Import library\n",
        "import random as rd\n",
        "import pandas as pd\n",
        "import numpy as np\n",
        "import matplotlib.pyplot as plt\n",
        "%matplotlib inline\n",
        "import seaborn as sns\n",
        "pd.options.display.float_format = '{:.2f}'.format\n",
        "\n",
        "from sklearn.preprocessing import MinMaxScaler,StandardScaler\n",
        "\n",
        "import plotly.express as px\n",
        "!pip install -U kaleido\n",
        "import kaleido"
      ]
    },
    {
      "cell_type": "markdown",
      "source": [
        "# Exploratory Data Analysis"
      ],
      "metadata": {
        "id": "YrnLsK2mjZY2"
      }
    },
    {
      "cell_type": "code",
      "source": [
        "# Baca dataset dan tampilkan 5 data pertama\n",
        "country_data = pd.read_csv('https://raw.githubusercontent.com/azmirizkifar20/Machine-Learning-K-Means-Clustering/main/Datasets/Country-data.csv')\n",
        "country_data.head()"
      ],
      "metadata": {
        "colab": {
          "base_uri": "https://localhost:8080/",
          "height": 206
        },
        "id": "AYxkU5TaUvJJ",
        "outputId": "01ecde8d-2b2a-4603-9fe5-a53701a2b70e"
      },
      "execution_count": null,
      "outputs": [
        {
          "output_type": "execute_result",
          "data": {
            "text/plain": [
              "               country  child_mort  exports  health  imports  income  \\\n",
              "0          Afghanistan       90.20    10.00    7.58    44.90    1610   \n",
              "1              Albania       16.60    28.00    6.55    48.60    9930   \n",
              "2              Algeria       27.30    38.40    4.17    31.40   12900   \n",
              "3               Angola      119.00    62.30    2.85    42.90    5900   \n",
              "4  Antigua and Barbuda       10.30    45.50    6.03    58.90   19100   \n",
              "\n",
              "   inflation  life_expec  total_fer   gdpp  \n",
              "0       9.44       56.20       5.82    553  \n",
              "1       4.49       76.30       1.65   4090  \n",
              "2      16.10       76.50       2.89   4460  \n",
              "3      22.40       60.10       6.16   3530  \n",
              "4       1.44       76.80       2.13  12200  "
            ],
            "text/html": [
              "\n",
              "  <div id=\"df-9914be07-e7fc-4051-b674-81f271ee567f\">\n",
              "    <div class=\"colab-df-container\">\n",
              "      <div>\n",
              "<style scoped>\n",
              "    .dataframe tbody tr th:only-of-type {\n",
              "        vertical-align: middle;\n",
              "    }\n",
              "\n",
              "    .dataframe tbody tr th {\n",
              "        vertical-align: top;\n",
              "    }\n",
              "\n",
              "    .dataframe thead th {\n",
              "        text-align: right;\n",
              "    }\n",
              "</style>\n",
              "<table border=\"1\" class=\"dataframe\">\n",
              "  <thead>\n",
              "    <tr style=\"text-align: right;\">\n",
              "      <th></th>\n",
              "      <th>country</th>\n",
              "      <th>child_mort</th>\n",
              "      <th>exports</th>\n",
              "      <th>health</th>\n",
              "      <th>imports</th>\n",
              "      <th>income</th>\n",
              "      <th>inflation</th>\n",
              "      <th>life_expec</th>\n",
              "      <th>total_fer</th>\n",
              "      <th>gdpp</th>\n",
              "    </tr>\n",
              "  </thead>\n",
              "  <tbody>\n",
              "    <tr>\n",
              "      <th>0</th>\n",
              "      <td>Afghanistan</td>\n",
              "      <td>90.20</td>\n",
              "      <td>10.00</td>\n",
              "      <td>7.58</td>\n",
              "      <td>44.90</td>\n",
              "      <td>1610</td>\n",
              "      <td>9.44</td>\n",
              "      <td>56.20</td>\n",
              "      <td>5.82</td>\n",
              "      <td>553</td>\n",
              "    </tr>\n",
              "    <tr>\n",
              "      <th>1</th>\n",
              "      <td>Albania</td>\n",
              "      <td>16.60</td>\n",
              "      <td>28.00</td>\n",
              "      <td>6.55</td>\n",
              "      <td>48.60</td>\n",
              "      <td>9930</td>\n",
              "      <td>4.49</td>\n",
              "      <td>76.30</td>\n",
              "      <td>1.65</td>\n",
              "      <td>4090</td>\n",
              "    </tr>\n",
              "    <tr>\n",
              "      <th>2</th>\n",
              "      <td>Algeria</td>\n",
              "      <td>27.30</td>\n",
              "      <td>38.40</td>\n",
              "      <td>4.17</td>\n",
              "      <td>31.40</td>\n",
              "      <td>12900</td>\n",
              "      <td>16.10</td>\n",
              "      <td>76.50</td>\n",
              "      <td>2.89</td>\n",
              "      <td>4460</td>\n",
              "    </tr>\n",
              "    <tr>\n",
              "      <th>3</th>\n",
              "      <td>Angola</td>\n",
              "      <td>119.00</td>\n",
              "      <td>62.30</td>\n",
              "      <td>2.85</td>\n",
              "      <td>42.90</td>\n",
              "      <td>5900</td>\n",
              "      <td>22.40</td>\n",
              "      <td>60.10</td>\n",
              "      <td>6.16</td>\n",
              "      <td>3530</td>\n",
              "    </tr>\n",
              "    <tr>\n",
              "      <th>4</th>\n",
              "      <td>Antigua and Barbuda</td>\n",
              "      <td>10.30</td>\n",
              "      <td>45.50</td>\n",
              "      <td>6.03</td>\n",
              "      <td>58.90</td>\n",
              "      <td>19100</td>\n",
              "      <td>1.44</td>\n",
              "      <td>76.80</td>\n",
              "      <td>2.13</td>\n",
              "      <td>12200</td>\n",
              "    </tr>\n",
              "  </tbody>\n",
              "</table>\n",
              "</div>\n",
              "      <button class=\"colab-df-convert\" onclick=\"convertToInteractive('df-9914be07-e7fc-4051-b674-81f271ee567f')\"\n",
              "              title=\"Convert this dataframe to an interactive table.\"\n",
              "              style=\"display:none;\">\n",
              "        \n",
              "  <svg xmlns=\"http://www.w3.org/2000/svg\" height=\"24px\"viewBox=\"0 0 24 24\"\n",
              "       width=\"24px\">\n",
              "    <path d=\"M0 0h24v24H0V0z\" fill=\"none\"/>\n",
              "    <path d=\"M18.56 5.44l.94 2.06.94-2.06 2.06-.94-2.06-.94-.94-2.06-.94 2.06-2.06.94zm-11 1L8.5 8.5l.94-2.06 2.06-.94-2.06-.94L8.5 2.5l-.94 2.06-2.06.94zm10 10l.94 2.06.94-2.06 2.06-.94-2.06-.94-.94-2.06-.94 2.06-2.06.94z\"/><path d=\"M17.41 7.96l-1.37-1.37c-.4-.4-.92-.59-1.43-.59-.52 0-1.04.2-1.43.59L10.3 9.45l-7.72 7.72c-.78.78-.78 2.05 0 2.83L4 21.41c.39.39.9.59 1.41.59.51 0 1.02-.2 1.41-.59l7.78-7.78 2.81-2.81c.8-.78.8-2.07 0-2.86zM5.41 20L4 18.59l7.72-7.72 1.47 1.35L5.41 20z\"/>\n",
              "  </svg>\n",
              "      </button>\n",
              "      \n",
              "  <style>\n",
              "    .colab-df-container {\n",
              "      display:flex;\n",
              "      flex-wrap:wrap;\n",
              "      gap: 12px;\n",
              "    }\n",
              "\n",
              "    .colab-df-convert {\n",
              "      background-color: #E8F0FE;\n",
              "      border: none;\n",
              "      border-radius: 50%;\n",
              "      cursor: pointer;\n",
              "      display: none;\n",
              "      fill: #1967D2;\n",
              "      height: 32px;\n",
              "      padding: 0 0 0 0;\n",
              "      width: 32px;\n",
              "    }\n",
              "\n",
              "    .colab-df-convert:hover {\n",
              "      background-color: #E2EBFA;\n",
              "      box-shadow: 0px 1px 2px rgba(60, 64, 67, 0.3), 0px 1px 3px 1px rgba(60, 64, 67, 0.15);\n",
              "      fill: #174EA6;\n",
              "    }\n",
              "\n",
              "    [theme=dark] .colab-df-convert {\n",
              "      background-color: #3B4455;\n",
              "      fill: #D2E3FC;\n",
              "    }\n",
              "\n",
              "    [theme=dark] .colab-df-convert:hover {\n",
              "      background-color: #434B5C;\n",
              "      box-shadow: 0px 1px 3px 1px rgba(0, 0, 0, 0.15);\n",
              "      filter: drop-shadow(0px 1px 2px rgba(0, 0, 0, 0.3));\n",
              "      fill: #FFFFFF;\n",
              "    }\n",
              "  </style>\n",
              "\n",
              "      <script>\n",
              "        const buttonEl =\n",
              "          document.querySelector('#df-9914be07-e7fc-4051-b674-81f271ee567f button.colab-df-convert');\n",
              "        buttonEl.style.display =\n",
              "          google.colab.kernel.accessAllowed ? 'block' : 'none';\n",
              "\n",
              "        async function convertToInteractive(key) {\n",
              "          const element = document.querySelector('#df-9914be07-e7fc-4051-b674-81f271ee567f');\n",
              "          const dataTable =\n",
              "            await google.colab.kernel.invokeFunction('convertToInteractive',\n",
              "                                                     [key], {});\n",
              "          if (!dataTable) return;\n",
              "\n",
              "          const docLinkHtml = 'Like what you see? Visit the ' +\n",
              "            '<a target=\"_blank\" href=https://colab.research.google.com/notebooks/data_table.ipynb>data table notebook</a>'\n",
              "            + ' to learn more about interactive tables.';\n",
              "          element.innerHTML = '';\n",
              "          dataTable['output_type'] = 'display_data';\n",
              "          await google.colab.output.renderOutput(dataTable, element);\n",
              "          const docLink = document.createElement('div');\n",
              "          docLink.innerHTML = docLinkHtml;\n",
              "          element.appendChild(docLink);\n",
              "        }\n",
              "      </script>\n",
              "    </div>\n",
              "  </div>\n",
              "  "
            ]
          },
          "metadata": {},
          "execution_count": 288
        }
      ]
    },
    {
      "cell_type": "code",
      "source": [
        "# show description per feature\n",
        "country_data.describe()"
      ],
      "metadata": {
        "colab": {
          "base_uri": "https://localhost:8080/",
          "height": 300
        },
        "id": "1KbKpZ79j5lI",
        "outputId": "001158d7-9943-4f93-839b-68890e4f3efe"
      },
      "execution_count": null,
      "outputs": [
        {
          "output_type": "execute_result",
          "data": {
            "text/plain": [
              "       child_mort  exports  health  imports    income  inflation  life_expec  \\\n",
              "count      167.00   167.00  167.00   167.00    167.00     167.00      167.00   \n",
              "mean        38.27    41.11    6.82    46.89  17144.69       7.78       70.56   \n",
              "std         40.33    27.41    2.75    24.21  19278.07      10.57        8.89   \n",
              "min          2.60     0.11    1.81     0.07    609.00      -4.21       32.10   \n",
              "25%          8.25    23.80    4.92    30.20   3355.00       1.81       65.30   \n",
              "50%         19.30    35.00    6.32    43.30   9960.00       5.39       73.10   \n",
              "75%         62.10    51.35    8.60    58.75  22800.00      10.75       76.80   \n",
              "max        208.00   200.00   17.90   174.00 125000.00     104.00       82.80   \n",
              "\n",
              "       total_fer      gdpp  \n",
              "count     167.00    167.00  \n",
              "mean        2.95  12964.16  \n",
              "std         1.51  18328.70  \n",
              "min         1.15    231.00  \n",
              "25%         1.79   1330.00  \n",
              "50%         2.41   4660.00  \n",
              "75%         3.88  14050.00  \n",
              "max         7.49 105000.00  "
            ],
            "text/html": [
              "\n",
              "  <div id=\"df-639db0b3-4c8a-47fd-96ec-8ec4b8a18fdd\">\n",
              "    <div class=\"colab-df-container\">\n",
              "      <div>\n",
              "<style scoped>\n",
              "    .dataframe tbody tr th:only-of-type {\n",
              "        vertical-align: middle;\n",
              "    }\n",
              "\n",
              "    .dataframe tbody tr th {\n",
              "        vertical-align: top;\n",
              "    }\n",
              "\n",
              "    .dataframe thead th {\n",
              "        text-align: right;\n",
              "    }\n",
              "</style>\n",
              "<table border=\"1\" class=\"dataframe\">\n",
              "  <thead>\n",
              "    <tr style=\"text-align: right;\">\n",
              "      <th></th>\n",
              "      <th>child_mort</th>\n",
              "      <th>exports</th>\n",
              "      <th>health</th>\n",
              "      <th>imports</th>\n",
              "      <th>income</th>\n",
              "      <th>inflation</th>\n",
              "      <th>life_expec</th>\n",
              "      <th>total_fer</th>\n",
              "      <th>gdpp</th>\n",
              "    </tr>\n",
              "  </thead>\n",
              "  <tbody>\n",
              "    <tr>\n",
              "      <th>count</th>\n",
              "      <td>167.00</td>\n",
              "      <td>167.00</td>\n",
              "      <td>167.00</td>\n",
              "      <td>167.00</td>\n",
              "      <td>167.00</td>\n",
              "      <td>167.00</td>\n",
              "      <td>167.00</td>\n",
              "      <td>167.00</td>\n",
              "      <td>167.00</td>\n",
              "    </tr>\n",
              "    <tr>\n",
              "      <th>mean</th>\n",
              "      <td>38.27</td>\n",
              "      <td>41.11</td>\n",
              "      <td>6.82</td>\n",
              "      <td>46.89</td>\n",
              "      <td>17144.69</td>\n",
              "      <td>7.78</td>\n",
              "      <td>70.56</td>\n",
              "      <td>2.95</td>\n",
              "      <td>12964.16</td>\n",
              "    </tr>\n",
              "    <tr>\n",
              "      <th>std</th>\n",
              "      <td>40.33</td>\n",
              "      <td>27.41</td>\n",
              "      <td>2.75</td>\n",
              "      <td>24.21</td>\n",
              "      <td>19278.07</td>\n",
              "      <td>10.57</td>\n",
              "      <td>8.89</td>\n",
              "      <td>1.51</td>\n",
              "      <td>18328.70</td>\n",
              "    </tr>\n",
              "    <tr>\n",
              "      <th>min</th>\n",
              "      <td>2.60</td>\n",
              "      <td>0.11</td>\n",
              "      <td>1.81</td>\n",
              "      <td>0.07</td>\n",
              "      <td>609.00</td>\n",
              "      <td>-4.21</td>\n",
              "      <td>32.10</td>\n",
              "      <td>1.15</td>\n",
              "      <td>231.00</td>\n",
              "    </tr>\n",
              "    <tr>\n",
              "      <th>25%</th>\n",
              "      <td>8.25</td>\n",
              "      <td>23.80</td>\n",
              "      <td>4.92</td>\n",
              "      <td>30.20</td>\n",
              "      <td>3355.00</td>\n",
              "      <td>1.81</td>\n",
              "      <td>65.30</td>\n",
              "      <td>1.79</td>\n",
              "      <td>1330.00</td>\n",
              "    </tr>\n",
              "    <tr>\n",
              "      <th>50%</th>\n",
              "      <td>19.30</td>\n",
              "      <td>35.00</td>\n",
              "      <td>6.32</td>\n",
              "      <td>43.30</td>\n",
              "      <td>9960.00</td>\n",
              "      <td>5.39</td>\n",
              "      <td>73.10</td>\n",
              "      <td>2.41</td>\n",
              "      <td>4660.00</td>\n",
              "    </tr>\n",
              "    <tr>\n",
              "      <th>75%</th>\n",
              "      <td>62.10</td>\n",
              "      <td>51.35</td>\n",
              "      <td>8.60</td>\n",
              "      <td>58.75</td>\n",
              "      <td>22800.00</td>\n",
              "      <td>10.75</td>\n",
              "      <td>76.80</td>\n",
              "      <td>3.88</td>\n",
              "      <td>14050.00</td>\n",
              "    </tr>\n",
              "    <tr>\n",
              "      <th>max</th>\n",
              "      <td>208.00</td>\n",
              "      <td>200.00</td>\n",
              "      <td>17.90</td>\n",
              "      <td>174.00</td>\n",
              "      <td>125000.00</td>\n",
              "      <td>104.00</td>\n",
              "      <td>82.80</td>\n",
              "      <td>7.49</td>\n",
              "      <td>105000.00</td>\n",
              "    </tr>\n",
              "  </tbody>\n",
              "</table>\n",
              "</div>\n",
              "      <button class=\"colab-df-convert\" onclick=\"convertToInteractive('df-639db0b3-4c8a-47fd-96ec-8ec4b8a18fdd')\"\n",
              "              title=\"Convert this dataframe to an interactive table.\"\n",
              "              style=\"display:none;\">\n",
              "        \n",
              "  <svg xmlns=\"http://www.w3.org/2000/svg\" height=\"24px\"viewBox=\"0 0 24 24\"\n",
              "       width=\"24px\">\n",
              "    <path d=\"M0 0h24v24H0V0z\" fill=\"none\"/>\n",
              "    <path d=\"M18.56 5.44l.94 2.06.94-2.06 2.06-.94-2.06-.94-.94-2.06-.94 2.06-2.06.94zm-11 1L8.5 8.5l.94-2.06 2.06-.94-2.06-.94L8.5 2.5l-.94 2.06-2.06.94zm10 10l.94 2.06.94-2.06 2.06-.94-2.06-.94-.94-2.06-.94 2.06-2.06.94z\"/><path d=\"M17.41 7.96l-1.37-1.37c-.4-.4-.92-.59-1.43-.59-.52 0-1.04.2-1.43.59L10.3 9.45l-7.72 7.72c-.78.78-.78 2.05 0 2.83L4 21.41c.39.39.9.59 1.41.59.51 0 1.02-.2 1.41-.59l7.78-7.78 2.81-2.81c.8-.78.8-2.07 0-2.86zM5.41 20L4 18.59l7.72-7.72 1.47 1.35L5.41 20z\"/>\n",
              "  </svg>\n",
              "      </button>\n",
              "      \n",
              "  <style>\n",
              "    .colab-df-container {\n",
              "      display:flex;\n",
              "      flex-wrap:wrap;\n",
              "      gap: 12px;\n",
              "    }\n",
              "\n",
              "    .colab-df-convert {\n",
              "      background-color: #E8F0FE;\n",
              "      border: none;\n",
              "      border-radius: 50%;\n",
              "      cursor: pointer;\n",
              "      display: none;\n",
              "      fill: #1967D2;\n",
              "      height: 32px;\n",
              "      padding: 0 0 0 0;\n",
              "      width: 32px;\n",
              "    }\n",
              "\n",
              "    .colab-df-convert:hover {\n",
              "      background-color: #E2EBFA;\n",
              "      box-shadow: 0px 1px 2px rgba(60, 64, 67, 0.3), 0px 1px 3px 1px rgba(60, 64, 67, 0.15);\n",
              "      fill: #174EA6;\n",
              "    }\n",
              "\n",
              "    [theme=dark] .colab-df-convert {\n",
              "      background-color: #3B4455;\n",
              "      fill: #D2E3FC;\n",
              "    }\n",
              "\n",
              "    [theme=dark] .colab-df-convert:hover {\n",
              "      background-color: #434B5C;\n",
              "      box-shadow: 0px 1px 3px 1px rgba(0, 0, 0, 0.15);\n",
              "      filter: drop-shadow(0px 1px 2px rgba(0, 0, 0, 0.3));\n",
              "      fill: #FFFFFF;\n",
              "    }\n",
              "  </style>\n",
              "\n",
              "      <script>\n",
              "        const buttonEl =\n",
              "          document.querySelector('#df-639db0b3-4c8a-47fd-96ec-8ec4b8a18fdd button.colab-df-convert');\n",
              "        buttonEl.style.display =\n",
              "          google.colab.kernel.accessAllowed ? 'block' : 'none';\n",
              "\n",
              "        async function convertToInteractive(key) {\n",
              "          const element = document.querySelector('#df-639db0b3-4c8a-47fd-96ec-8ec4b8a18fdd');\n",
              "          const dataTable =\n",
              "            await google.colab.kernel.invokeFunction('convertToInteractive',\n",
              "                                                     [key], {});\n",
              "          if (!dataTable) return;\n",
              "\n",
              "          const docLinkHtml = 'Like what you see? Visit the ' +\n",
              "            '<a target=\"_blank\" href=https://colab.research.google.com/notebooks/data_table.ipynb>data table notebook</a>'\n",
              "            + ' to learn more about interactive tables.';\n",
              "          element.innerHTML = '';\n",
              "          dataTable['output_type'] = 'display_data';\n",
              "          await google.colab.output.renderOutput(dataTable, element);\n",
              "          const docLink = document.createElement('div');\n",
              "          docLink.innerHTML = docLinkHtml;\n",
              "          element.appendChild(docLink);\n",
              "        }\n",
              "      </script>\n",
              "    </div>\n",
              "  </div>\n",
              "  "
            ]
          },
          "metadata": {},
          "execution_count": 289
        }
      ]
    },
    {
      "cell_type": "code",
      "source": [
        "# cek jumlah baris dan kolom\n",
        "country_data.shape"
      ],
      "metadata": {
        "colab": {
          "base_uri": "https://localhost:8080/"
        },
        "id": "j73YsPIXjXyi",
        "outputId": "dd37b5af-4906-4b39-bc3e-54a035b43574"
      },
      "execution_count": null,
      "outputs": [
        {
          "output_type": "execute_result",
          "data": {
            "text/plain": [
              "(167, 10)"
            ]
          },
          "metadata": {},
          "execution_count": 290
        }
      ]
    },
    {
      "cell_type": "code",
      "source": [
        "# getting information of the data\n",
        "country_data.info()"
      ],
      "metadata": {
        "colab": {
          "base_uri": "https://localhost:8080/"
        },
        "id": "IJRaB5l9jhNl",
        "outputId": "cf5a0cbf-536d-486c-debc-788881154082"
      },
      "execution_count": null,
      "outputs": [
        {
          "output_type": "stream",
          "name": "stdout",
          "text": [
            "<class 'pandas.core.frame.DataFrame'>\n",
            "RangeIndex: 167 entries, 0 to 166\n",
            "Data columns (total 10 columns):\n",
            " #   Column      Non-Null Count  Dtype  \n",
            "---  ------      --------------  -----  \n",
            " 0   country     167 non-null    object \n",
            " 1   child_mort  167 non-null    float64\n",
            " 2   exports     167 non-null    float64\n",
            " 3   health      167 non-null    float64\n",
            " 4   imports     167 non-null    float64\n",
            " 5   income      167 non-null    int64  \n",
            " 6   inflation   167 non-null    float64\n",
            " 7   life_expec  167 non-null    float64\n",
            " 8   total_fer   167 non-null    float64\n",
            " 9   gdpp        167 non-null    int64  \n",
            "dtypes: float64(7), int64(2), object(1)\n",
            "memory usage: 13.2+ KB\n"
          ]
        }
      ]
    },
    {
      "cell_type": "code",
      "source": [
        "# check the number of missing values per column\n",
        "print(country_data.isnull().sum())\n",
        "\n",
        "# Mencari data null dengan memplot data menggunakan heatmap\n",
        "sns.heatmap(country_data.isnull(), cmap = 'magma', cbar = False);"
      ],
      "metadata": {
        "colab": {
          "base_uri": "https://localhost:8080/",
          "height": 503
        },
        "id": "jSNS8JB2jsBj",
        "outputId": "77ab1e76-26df-4f7a-9be5-741a7d96f801"
      },
      "execution_count": null,
      "outputs": [
        {
          "output_type": "stream",
          "name": "stdout",
          "text": [
            "country       0\n",
            "child_mort    0\n",
            "exports       0\n",
            "health        0\n",
            "imports       0\n",
            "income        0\n",
            "inflation     0\n",
            "life_expec    0\n",
            "total_fer     0\n",
            "gdpp          0\n",
            "dtype: int64\n"
          ]
        },
        {
          "output_type": "display_data",
          "data": {
            "text/plain": [
              "<Figure size 432x288 with 1 Axes>"
            ],
            "image/png": "[encoded data removed]"
          },
          "metadata": {
            "needs_background": "light"
          }
        }
      ]
    },
    {
      "cell_type": "code",
      "source": [
        "# Menampilkan data rata-rata per fitur dengan menggunakan heatmap untuk memisahkan rata-rata yang tinggi\n",
        "fig,ax = plt.subplots(nrows = 1,ncols = 1,figsize = (5,5))\n",
        "\n",
        "plt.subplot(1,1,1)\n",
        "sns.heatmap(country_data.describe().T[['mean']],cmap = 'Oranges',annot = True,fmt = '.2f',linecolor = 'black',linewidths = 0.4,cbar = False);\n",
        "plt.title('Mean Values');\n",
        "\n",
        "fig.tight_layout(pad = 4)"
      ],
      "metadata": {
        "colab": {
          "base_uri": "https://localhost:8080/",
          "height": 311
        },
        "id": "b5qmREbZj-6k",
        "outputId": "8b303c2d-e09e-479d-def0-10e35a86354d"
      },
      "execution_count": null,
      "outputs": [
        {
          "output_type": "display_data",
          "data": {
            "text/plain": [
              "<Figure size 360x360 with 1 Axes>"
            ],
            "image/png": "[encoded data removed]"
          },
          "metadata": {
            "needs_background": "light"
          }
        }
      ]
    },
    {
      "cell_type": "code",
      "source": [
        "# Dari hasil analisis data diatas, terdapat 10 fitur yang dimana :\n",
        "# terdapat 1 fitur dengan data categorical dan 9 data numerical\n",
        "col = list(country_data.columns)\n",
        "col.remove('country')\n",
        "categorical_features = ['country']\n",
        "numerical_features = [*col]\n",
        "\n",
        "print('Categorical Features :', *categorical_features)\n",
        "print('Numerical Features :', *numerical_features)"
      ],
      "metadata": {
        "colab": {
          "base_uri": "https://localhost:8080/"
        },
        "id": "dGT2GlKBlcIp",
        "outputId": "a103314e-3fa2-4305-9001-6c0faa0b4d77"
      },
      "execution_count": null,
      "outputs": [
        {
          "output_type": "stream",
          "name": "stdout",
          "text": [
            "Categorical Features : country\n",
            "Numerical Features : child_mort exports health imports income inflation life_expec total_fer gdpp\n"
          ]
        }
      ]
    },
    {
      "cell_type": "code",
      "source": [
        "# Pembuatan correlation matrix untuk peninjauan keterkaitan data/fitur\n",
        "lt = np.tril(country_data.corr())\n",
        "colors = ['#FF781F','#2D2926']\n",
        "\n",
        "fig,ax = plt.subplots(figsize = (15,5))\n",
        "sns.heatmap(country_data.corr(),cmap = colors, annot = True,cbar = 'True',mask = lt);\n",
        "plt.title('Correlation Matrix : Lower Triangular Format');"
      ],
      "metadata": {
        "colab": {
          "base_uri": "https://localhost:8080/",
          "height": 337
        },
        "id": "Gh1YfMUJq5hf",
        "outputId": "62609318-9d2b-494e-bed5-1c150a36af3c"
      },
      "execution_count": null,
      "outputs": [
        {
          "output_type": "display_data",
          "data": {
            "text/plain": [
              "<Figure size 1080x360 with 2 Axes>"
            ],
            "image/png": "[encoded data removed]"
          },
          "metadata": {
            "needs_background": "light"
          }
        }
      ]
    },
    {
      "cell_type": "markdown",
      "source": [
        "\n",
        "\n",
        "Untuk dataset ini, dikarenakan fiturnya sedikit, maka dilakukan pengecekan manual pada datasetnya.\n",
        "\n",
        "Beberapa fitur pada dasarnya berasal dari kategori yang sama dan memiliki keterkaitan terhadap fitur lainnya dari kategori yang berbeda. Hal ini bisa dibuktikan dengan :\n",
        "1. Kenaikan nilai export meningkatkan nilai import, income, dan gdpp.\n",
        "2. Kenaikan nilai child_mort terjadi ketika nilai inflasi dan total_fer meningkat.\n",
        "3. Nilai life_expec yang tinggi menampilkan total_fer yang rendah dan gdpp yang tinggi menyebabkan banyak pengeluaran untuk kesehatan (health).\n",
        "\n",
        "\n",
        "\n",
        "\n",
        "\n"
      ],
      "metadata": {
        "id": "q0rSq5_nIu7u"
      }
    },
    {
      "cell_type": "markdown",
      "source": [
        "# Tahap Pre-Process"
      ],
      "metadata": {
        "id": "zEc6ZzAO9_3z"
      }
    },
    {
      "cell_type": "markdown",
      "source": [
        "Berdasarkan kesimpulan diatas, beberapa fitur berasal dari katageori yang sama karena memiliki keterkaitan dengan fitur lainnya. oleh karena itu, saya membagi kategori tersebut menjadi 3 dengan keterangan:\n",
        "\n",
        "\n",
        "*   kesehatan (health): child_mort, health, life_expec, total_fer\n",
        "*   perdagangan (trade): import, export\n",
        "*   keuangan (finance): income, inflation, gdpp\n",
        "\n"
      ],
      "metadata": {
        "id": "4heO1csPKl-S"
      }
    },
    {
      "cell_type": "code",
      "source": [
        "process_data = pd.DataFrame()\n",
        "process_data['health'] = (country_data['child_mort'] / country_data['child_mort'].mean()) + (country_data['health'] / country_data['health'].mean()) + (country_data['life_expec'] / country_data['life_expec'].mean()) + (country_data['total_fer'] / country_data['total_fer'].mean())\n",
        "process_data['trade'] = (country_data['imports'] / country_data['imports'].mean()) + (country_data['exports'] / country_data['exports'].mean())\n",
        "process_data['finance'] = (country_data['income'] / country_data['income'].mean()) + (country_data['inflation'] / country_data['inflation'].mean()) + (country_data['gdpp'] / country_data['gdpp'].mean())\n",
        "\n",
        "process_data.head()"
      ],
      "metadata": {
        "colab": {
          "base_uri": "https://localhost:8080/",
          "height": 206
        },
        "id": "lgVbWS_tLnf8",
        "outputId": "e1c6ffd9-6237-4ceb-c598-e9a8d67b552c"
      },
      "execution_count": null,
      "outputs": [
        {
          "output_type": "execute_result",
          "data": {
            "text/plain": [
              "   health  trade  finance\n",
              "0    6.24   1.20     1.35\n",
              "1    3.04   1.72     1.47\n",
              "2    3.39   1.60     3.17\n",
              "3    6.47   2.43     3.49\n",
              "4    2.96   2.36     2.24"
            ],
            "text/html": [
              "\n",
              "  <div id=\"df-a2b10ef0-2277-4a36-b7df-a04369fe3940\">\n",
              "    <div class=\"colab-df-container\">\n",
              "      <div>\n",
              "<style scoped>\n",
              "    .dataframe tbody tr th:only-of-type {\n",
              "        vertical-align: middle;\n",
              "    }\n",
              "\n",
              "    .dataframe tbody tr th {\n",
              "        vertical-align: top;\n",
              "    }\n",
              "\n",
              "    .dataframe thead th {\n",
              "        text-align: right;\n",
              "    }\n",
              "</style>\n",
              "<table border=\"1\" class=\"dataframe\">\n",
              "  <thead>\n",
              "    <tr style=\"text-align: right;\">\n",
              "      <th></th>\n",
              "      <th>health</th>\n",
              "      <th>trade</th>\n",
              "      <th>finance</th>\n",
              "    </tr>\n",
              "  </thead>\n",
              "  <tbody>\n",
              "    <tr>\n",
              "      <th>0</th>\n",
              "      <td>6.24</td>\n",
              "      <td>1.20</td>\n",
              "      <td>1.35</td>\n",
              "    </tr>\n",
              "    <tr>\n",
              "      <th>1</th>\n",
              "      <td>3.04</td>\n",
              "      <td>1.72</td>\n",
              "      <td>1.47</td>\n",
              "    </tr>\n",
              "    <tr>\n",
              "      <th>2</th>\n",
              "      <td>3.39</td>\n",
              "      <td>1.60</td>\n",
              "      <td>3.17</td>\n",
              "    </tr>\n",
              "    <tr>\n",
              "      <th>3</th>\n",
              "      <td>6.47</td>\n",
              "      <td>2.43</td>\n",
              "      <td>3.49</td>\n",
              "    </tr>\n",
              "    <tr>\n",
              "      <th>4</th>\n",
              "      <td>2.96</td>\n",
              "      <td>2.36</td>\n",
              "      <td>2.24</td>\n",
              "    </tr>\n",
              "  </tbody>\n",
              "</table>\n",
              "</div>\n",
              "      <button class=\"colab-df-convert\" onclick=\"convertToInteractive('df-a2b10ef0-2277-4a36-b7df-a04369fe3940')\"\n",
              "              title=\"Convert this dataframe to an interactive table.\"\n",
              "              style=\"display:none;\">\n",
              "        \n",
              "  <svg xmlns=\"http://www.w3.org/2000/svg\" height=\"24px\"viewBox=\"0 0 24 24\"\n",
              "       width=\"24px\">\n",
              "    <path d=\"M0 0h24v24H0V0z\" fill=\"none\"/>\n",
              "    <path d=\"M18.56 5.44l.94 2.06.94-2.06 2.06-.94-2.06-.94-.94-2.06-.94 2.06-2.06.94zm-11 1L8.5 8.5l.94-2.06 2.06-.94-2.06-.94L8.5 2.5l-.94 2.06-2.06.94zm10 10l.94 2.06.94-2.06 2.06-.94-2.06-.94-.94-2.06-.94 2.06-2.06.94z\"/><path d=\"M17.41 7.96l-1.37-1.37c-.4-.4-.92-.59-1.43-.59-.52 0-1.04.2-1.43.59L10.3 9.45l-7.72 7.72c-.78.78-.78 2.05 0 2.83L4 21.41c.39.39.9.59 1.41.59.51 0 1.02-.2 1.41-.59l7.78-7.78 2.81-2.81c.8-.78.8-2.07 0-2.86zM5.41 20L4 18.59l7.72-7.72 1.47 1.35L5.41 20z\"/>\n",
              "  </svg>\n",
              "      </button>\n",
              "      \n",
              "  <style>\n",
              "    .colab-df-container {\n",
              "      display:flex;\n",
              "      flex-wrap:wrap;\n",
              "      gap: 12px;\n",
              "    }\n",
              "\n",
              "    .colab-df-convert {\n",
              "      background-color: #E8F0FE;\n",
              "      border: none;\n",
              "      border-radius: 50%;\n",
              "      cursor: pointer;\n",
              "      display: none;\n",
              "      fill: #1967D2;\n",
              "      height: 32px;\n",
              "      padding: 0 0 0 0;\n",
              "      width: 32px;\n",
              "    }\n",
              "\n",
              "    .colab-df-convert:hover {\n",
              "      background-color: #E2EBFA;\n",
              "      box-shadow: 0px 1px 2px rgba(60, 64, 67, 0.3), 0px 1px 3px 1px rgba(60, 64, 67, 0.15);\n",
              "      fill: #174EA6;\n",
              "    }\n",
              "\n",
              "    [theme=dark] .colab-df-convert {\n",
              "      background-color: #3B4455;\n",
              "      fill: #D2E3FC;\n",
              "    }\n",
              "\n",
              "    [theme=dark] .colab-df-convert:hover {\n",
              "      background-color: #434B5C;\n",
              "      box-shadow: 0px 1px 3px 1px rgba(0, 0, 0, 0.15);\n",
              "      filter: drop-shadow(0px 1px 2px rgba(0, 0, 0, 0.3));\n",
              "      fill: #FFFFFF;\n",
              "    }\n",
              "  </style>\n",
              "\n",
              "      <script>\n",
              "        const buttonEl =\n",
              "          document.querySelector('#df-a2b10ef0-2277-4a36-b7df-a04369fe3940 button.colab-df-convert');\n",
              "        buttonEl.style.display =\n",
              "          google.colab.kernel.accessAllowed ? 'block' : 'none';\n",
              "\n",
              "        async function convertToInteractive(key) {\n",
              "          const element = document.querySelector('#df-a2b10ef0-2277-4a36-b7df-a04369fe3940');\n",
              "          const dataTable =\n",
              "            await google.colab.kernel.invokeFunction('convertToInteractive',\n",
              "                                                     [key], {});\n",
              "          if (!dataTable) return;\n",
              "\n",
              "          const docLinkHtml = 'Like what you see? Visit the ' +\n",
              "            '<a target=\"_blank\" href=https://colab.research.google.com/notebooks/data_table.ipynb>data table notebook</a>'\n",
              "            + ' to learn more about interactive tables.';\n",
              "          element.innerHTML = '';\n",
              "          dataTable['output_type'] = 'display_data';\n",
              "          await google.colab.output.renderOutput(dataTable, element);\n",
              "          const docLink = document.createElement('div');\n",
              "          docLink.innerHTML = docLinkHtml;\n",
              "          element.appendChild(docLink);\n",
              "        }\n",
              "      </script>\n",
              "    </div>\n",
              "  </div>\n",
              "  "
            ]
          },
          "metadata": {},
          "execution_count": 296
        }
      ]
    },
    {
      "cell_type": "markdown",
      "source": [
        "Dilakukan scaling fitur karena machine learning hanya memperlakukan nilai input sebagai angka sederhana dan tidak memahami satuan nilai fitur. \n",
        "\n",
        "Dilakukan **normalisasi** untuk fitur yang datanya tidak menampilkan distribusi normal."
      ],
      "metadata": {
        "id": "X8QPomt6yE0B"
      }
    },
    {
      "cell_type": "code",
      "source": [
        "mms = MinMaxScaler() # Normalization\n",
        "\n",
        "process_data['health'] = mms.fit_transform(process_data[['health']])\n",
        "process_data['trade'] = mms.fit_transform(process_data[['trade']])\n",
        "process_data['finance'] = mms.fit_transform(process_data[['finance']])\n",
        "\n",
        "process_data.insert(loc = 0, value = list(country_data['country']), column = 'country')\n",
        "process_data.head()"
      ],
      "metadata": {
        "colab": {
          "base_uri": "https://localhost:8080/",
          "height": 206
        },
        "id": "gSWjqkc0MIck",
        "outputId": "d1365e1a-083d-4de8-b9da-5fde453f6727"
      },
      "execution_count": null,
      "outputs": [
        {
          "output_type": "execute_result",
          "data": {
            "text/plain": [
              "               country  health  trade  finance\n",
              "0          Afghanistan    0.63   0.14     0.08\n",
              "1              Albania    0.13   0.20     0.09\n",
              "2              Algeria    0.18   0.19     0.21\n",
              "3               Angola    0.66   0.28     0.24\n",
              "4  Antigua and Barbuda    0.12   0.28     0.15"
            ],
            "text/html": [
              "\n",
              "  <div id=\"df-4fd2dea5-c574-4660-ae3e-09ffd5578d61\">\n",
              "    <div class=\"colab-df-container\">\n",
              "      <div>\n",
              "<style scoped>\n",
              "    .dataframe tbody tr th:only-of-type {\n",
              "        vertical-align: middle;\n",
              "    }\n",
              "\n",
              "    .dataframe tbody tr th {\n",
              "        vertical-align: top;\n",
              "    }\n",
              "\n",
              "    .dataframe thead th {\n",
              "        text-align: right;\n",
              "    }\n",
              "</style>\n",
              "<table border=\"1\" class=\"dataframe\">\n",
              "  <thead>\n",
              "    <tr style=\"text-align: right;\">\n",
              "      <th></th>\n",
              "      <th>country</th>\n",
              "      <th>health</th>\n",
              "      <th>trade</th>\n",
              "      <th>finance</th>\n",
              "    </tr>\n",
              "  </thead>\n",
              "  <tbody>\n",
              "    <tr>\n",
              "      <th>0</th>\n",
              "      <td>Afghanistan</td>\n",
              "      <td>0.63</td>\n",
              "      <td>0.14</td>\n",
              "      <td>0.08</td>\n",
              "    </tr>\n",
              "    <tr>\n",
              "      <th>1</th>\n",
              "      <td>Albania</td>\n",
              "      <td>0.13</td>\n",
              "      <td>0.20</td>\n",
              "      <td>0.09</td>\n",
              "    </tr>\n",
              "    <tr>\n",
              "      <th>2</th>\n",
              "      <td>Algeria</td>\n",
              "      <td>0.18</td>\n",
              "      <td>0.19</td>\n",
              "      <td>0.21</td>\n",
              "    </tr>\n",
              "    <tr>\n",
              "      <th>3</th>\n",
              "      <td>Angola</td>\n",
              "      <td>0.66</td>\n",
              "      <td>0.28</td>\n",
              "      <td>0.24</td>\n",
              "    </tr>\n",
              "    <tr>\n",
              "      <th>4</th>\n",
              "      <td>Antigua and Barbuda</td>\n",
              "      <td>0.12</td>\n",
              "      <td>0.28</td>\n",
              "      <td>0.15</td>\n",
              "    </tr>\n",
              "  </tbody>\n",
              "</table>\n",
              "</div>\n",
              "      <button class=\"colab-df-convert\" onclick=\"convertToInteractive('df-4fd2dea5-c574-4660-ae3e-09ffd5578d61')\"\n",
              "              title=\"Convert this dataframe to an interactive table.\"\n",
              "              style=\"display:none;\">\n",
              "        \n",
              "  <svg xmlns=\"http://www.w3.org/2000/svg\" height=\"24px\"viewBox=\"0 0 24 24\"\n",
              "       width=\"24px\">\n",
              "    <path d=\"M0 0h24v24H0V0z\" fill=\"none\"/>\n",
              "    <path d=\"M18.56 5.44l.94 2.06.94-2.06 2.06-.94-2.06-.94-.94-2.06-.94 2.06-2.06.94zm-11 1L8.5 8.5l.94-2.06 2.06-.94-2.06-.94L8.5 2.5l-.94 2.06-2.06.94zm10 10l.94 2.06.94-2.06 2.06-.94-2.06-.94-.94-2.06-.94 2.06-2.06.94z\"/><path d=\"M17.41 7.96l-1.37-1.37c-.4-.4-.92-.59-1.43-.59-.52 0-1.04.2-1.43.59L10.3 9.45l-7.72 7.72c-.78.78-.78 2.05 0 2.83L4 21.41c.39.39.9.59 1.41.59.51 0 1.02-.2 1.41-.59l7.78-7.78 2.81-2.81c.8-.78.8-2.07 0-2.86zM5.41 20L4 18.59l7.72-7.72 1.47 1.35L5.41 20z\"/>\n",
              "  </svg>\n",
              "      </button>\n",
              "      \n",
              "  <style>\n",
              "    .colab-df-container {\n",
              "      display:flex;\n",
              "      flex-wrap:wrap;\n",
              "      gap: 12px;\n",
              "    }\n",
              "\n",
              "    .colab-df-convert {\n",
              "      background-color: #E8F0FE;\n",
              "      border: none;\n",
              "      border-radius: 50%;\n",
              "      cursor: pointer;\n",
              "      display: none;\n",
              "      fill: #1967D2;\n",
              "      height: 32px;\n",
              "      padding: 0 0 0 0;\n",
              "      width: 32px;\n",
              "    }\n",
              "\n",
              "    .colab-df-convert:hover {\n",
              "      background-color: #E2EBFA;\n",
              "      box-shadow: 0px 1px 2px rgba(60, 64, 67, 0.3), 0px 1px 3px 1px rgba(60, 64, 67, 0.15);\n",
              "      fill: #174EA6;\n",
              "    }\n",
              "\n",
              "    [theme=dark] .colab-df-convert {\n",
              "      background-color: #3B4455;\n",
              "      fill: #D2E3FC;\n",
              "    }\n",
              "\n",
              "    [theme=dark] .colab-df-convert:hover {\n",
              "      background-color: #434B5C;\n",
              "      box-shadow: 0px 1px 3px 1px rgba(0, 0, 0, 0.15);\n",
              "      filter: drop-shadow(0px 1px 2px rgba(0, 0, 0, 0.3));\n",
              "      fill: #FFFFFF;\n",
              "    }\n",
              "  </style>\n",
              "\n",
              "      <script>\n",
              "        const buttonEl =\n",
              "          document.querySelector('#df-4fd2dea5-c574-4660-ae3e-09ffd5578d61 button.colab-df-convert');\n",
              "        buttonEl.style.display =\n",
              "          google.colab.kernel.accessAllowed ? 'block' : 'none';\n",
              "\n",
              "        async function convertToInteractive(key) {\n",
              "          const element = document.querySelector('#df-4fd2dea5-c574-4660-ae3e-09ffd5578d61');\n",
              "          const dataTable =\n",
              "            await google.colab.kernel.invokeFunction('convertToInteractive',\n",
              "                                                     [key], {});\n",
              "          if (!dataTable) return;\n",
              "\n",
              "          const docLinkHtml = 'Like what you see? Visit the ' +\n",
              "            '<a target=\"_blank\" href=https://colab.research.google.com/notebooks/data_table.ipynb>data table notebook</a>'\n",
              "            + ' to learn more about interactive tables.';\n",
              "          element.innerHTML = '';\n",
              "          dataTable['output_type'] = 'display_data';\n",
              "          await google.colab.output.renderOutput(dataTable, element);\n",
              "          const docLink = document.createElement('div');\n",
              "          docLink.innerHTML = docLinkHtml;\n",
              "          element.appendChild(docLink);\n",
              "        }\n",
              "      </script>\n",
              "    </div>\n",
              "  </div>\n",
              "  "
            ]
          },
          "metadata": {},
          "execution_count": 297
        }
      ]
    },
    {
      "cell_type": "code",
      "source": [
        "# Define data untuk dilakukan fitting (ignore categorical features)\n",
        "process_data_model = process_data.drop(columns = ['country']).values"
      ],
      "metadata": {
        "id": "Y1kbLD1JOTAi"
      },
      "execution_count": null,
      "outputs": []
    },
    {
      "cell_type": "markdown",
      "source": [
        "# K-Mean Cluster"
      ],
      "metadata": {
        "id": "38wwP3MXA55Q"
      }
    },
    {
      "cell_type": "markdown",
      "source": [
        "Digunakan Elbow Method untuk menentukan jumlah nilai k sebagai hyperparameter algoritma k-means."
      ],
      "metadata": {
        "id": "RO1Y9bAMzr0d"
      }
    },
    {
      "cell_type": "code",
      "source": [
        "from sklearn.cluster import KMeans\n",
        "wcss = []\n",
        "\n",
        "for i in range(1, 11):\n",
        "    clustering = KMeans(n_clusters=i, init='k-means++', random_state=42)\n",
        "    clustering.fit(process_data_model)\n",
        "    wcss.append(clustering.inertia_)\n",
        "    \n",
        "ks = [1, 2, 3, 4, 5, 6, 7, 8, 9, 10]\n",
        "sns.lineplot(x = ks, y = wcss);"
      ],
      "metadata": {
        "colab": {
          "base_uri": "https://localhost:8080/",
          "height": 265
        },
        "id": "j3eahSoNSaT6",
        "outputId": "385fb303-28e5-43df-c797-e13df02543cf"
      },
      "execution_count": null,
      "outputs": [
        {
          "output_type": "display_data",
          "data": {
            "text/plain": [
              "<Figure size 432x288 with 1 Axes>"
            ],
            "image/png": "[encoded data removed]"
          },
          "metadata": {
            "needs_background": "light"
          }
        }
      ]
    },
    {
      "cell_type": "code",
      "source": [
        "class K_Means:\n",
        "  def __init__(self, k=2, tol=0.001, max_iter=300):\n",
        "    self.k = k\n",
        "    self.tol = tol\n",
        "    self.max_iter = max_iter\n",
        "\n",
        "  def fit(self,data):\n",
        "    self.centroids = {}\n",
        "\n",
        "    for i in range(self.k):\n",
        "      self.centroids[i] = data[i]\n",
        "\n",
        "    for i in range(self.max_iter):\n",
        "      self.classifications = {}\n",
        "\n",
        "      for i in range(self.k):\n",
        "        self.classifications[i] = []\n",
        "\n",
        "      for featureset in data:\n",
        "        distances = [np.linalg.norm(featureset-self.centroids[centroid]) for centroid in self.centroids]\n",
        "        classification = distances.index(min(distances))\n",
        "        self.classifications[classification].append(featureset)\n",
        "\n",
        "      prev_centroids = dict(self.centroids)\n",
        "\n",
        "      for classification in self.classifications:\n",
        "        self.centroids[classification] = np.average(self.classifications[classification],axis=0)\n",
        "\n",
        "      optimized = True\n",
        "\n",
        "      for c in self.centroids:\n",
        "        original_centroid = prev_centroids[c]\n",
        "        current_centroid = self.centroids[c]\n",
        "        if np.sum((current_centroid-original_centroid)/original_centroid*100.0) > self.tol:\n",
        "          print(np.sum((current_centroid-original_centroid)/original_centroid*100.0))\n",
        "          optimized = False\n",
        "\n",
        "      if optimized:\n",
        "        break"
      ],
      "metadata": {
        "id": "TQLbJ9E7cHro"
      },
      "execution_count": null,
      "outputs": []
    },
    {
      "cell_type": "code",
      "source": [
        "# Inisiasi model\n",
        "model = K_Means(k=3)\n",
        "model.fit(process_data_model)"
      ],
      "metadata": {
        "colab": {
          "base_uri": "https://localhost:8080/"
        },
        "id": "OhfSkXit1IlT",
        "outputId": "e9905a05-c7f2-44bd-f519-b2a9f32df1c3"
      },
      "execution_count": null,
      "outputs": [
        {
          "output_type": "stream",
          "name": "stdout",
          "text": [
            "70.96525645753786\n",
            "63.3610419030481\n",
            "80.50264775316064\n",
            "26.098108924784377\n",
            "24.805246531312598\n",
            "3.960054474003082\n",
            "14.892885076047737\n",
            "12.037677054581014\n",
            "2.25952930827778\n",
            "11.589575609123688\n",
            "1.5793096725679594\n",
            "5.190866398791849\n",
            "1.0625116954523595\n",
            "2.158144136808811\n"
          ]
        }
      ]
    },
    {
      "cell_type": "code",
      "source": [
        "from mpl_toolkits.mplot3d import Axes3D\n",
        "fig = plt.figure()\n",
        "ax = Axes3D(fig)\n",
        "colors = ['#02ee98','#b629fc', '#ee6a02']\n",
        "\n",
        "# Plot hasil clustering\n",
        "for classification in model.classifications:\n",
        "  color = colors[classification]\n",
        "  for featureset in model.classifications[classification]:\n",
        "    ax.scatter(featureset[0], featureset[1], featureset[2], color=color)\n",
        "        \n",
        "plt.show()"
      ],
      "metadata": {
        "colab": {
          "base_uri": "https://localhost:8080/",
          "height": 319
        },
        "id": "uXD89hYjM2Ll",
        "outputId": "feee0aa9-f64f-49a4-a5ea-113485404770"
      },
      "execution_count": null,
      "outputs": [
        {
          "output_type": "display_data",
          "data": {
            "text/plain": [
              "<Figure size 432x288 with 1 Axes>"
            ],
            "image/png": "[encoded data removed]"
          },
          "metadata": {
            "needs_background": "light"
          }
        }
      ]
    },
    {
      "cell_type": "code",
      "source": [
        "model.centroids"
      ],
      "metadata": {
        "colab": {
          "base_uri": "https://localhost:8080/"
        },
        "id": "DZArjhTaP0aA",
        "outputId": "ac838c99-8148-4689-ae19-d4fadbeb9438"
      },
      "execution_count": null,
      "outputs": [
        {
          "output_type": "execute_result",
          "data": {
            "text/plain": [
              "{0: array([0.63055841, 0.18653481, 0.08930844]),\n",
              " 1: array([0.18523165, 0.23585981, 0.13945257]),\n",
              " 2: array([0.16519724, 0.27563471, 0.51548174])}"
            ]
          },
          "metadata": {},
          "execution_count": 302
        }
      ]
    },
    {
      "cell_type": "markdown",
      "source": [
        "# Penentuan class"
      ],
      "metadata": {
        "id": "ULBx0KeCARCT"
      }
    },
    {
      "cell_type": "code",
      "source": [
        "# Get data labels untuk penentuan class\n",
        "labels = []\n",
        "\n",
        "for data in process_data_model:\n",
        "  for label in model.classifications[0]:\n",
        "    if (data == label).all():\n",
        "      labels.append(0)\n",
        "  \n",
        "  for label in model.classifications[1]:\n",
        "    if (data == label).all():\n",
        "      labels.append(1)\n",
        "  \n",
        "  for label in model.classifications[2]:\n",
        "    if (data == label).all():\n",
        "      labels.append(2)\n",
        "\n",
        "process_data['class'] = labels\n",
        "country_data['class'] = labels\n",
        "\n",
        "print('Class based on country data:')\n",
        "print(country_data)"
      ],
      "metadata": {
        "colab": {
          "base_uri": "https://localhost:8080/"
        },
        "id": "B2exCFtNEPat",
        "outputId": "5fd19184-035b-46f8-d87f-87e49c071682"
      },
      "execution_count": null,
      "outputs": [
        {
          "output_type": "stream",
          "name": "stdout",
          "text": [
            "Class based on country data:\n",
            "                 country  child_mort  exports  health  imports  income  \\\n",
            "0            Afghanistan       90.20    10.00    7.58    44.90    1610   \n",
            "1                Albania       16.60    28.00    6.55    48.60    9930   \n",
            "2                Algeria       27.30    38.40    4.17    31.40   12900   \n",
            "3                 Angola      119.00    62.30    2.85    42.90    5900   \n",
            "4    Antigua and Barbuda       10.30    45.50    6.03    58.90   19100   \n",
            "..                   ...         ...      ...     ...      ...     ...   \n",
            "162              Vanuatu       29.20    46.60    5.25    52.70    2950   \n",
            "163            Venezuela       17.10    28.50    4.91    17.60   16500   \n",
            "164              Vietnam       23.30    72.00    6.84    80.20    4490   \n",
            "165                Yemen       56.30    30.00    5.18    34.40    4480   \n",
            "166               Zambia       83.10    37.00    5.89    30.90    3280   \n",
            "\n",
            "     inflation  life_expec  total_fer   gdpp  class  \n",
            "0         9.44       56.20       5.82    553      0  \n",
            "1         4.49       76.30       1.65   4090      1  \n",
            "2        16.10       76.50       2.89   4460      1  \n",
            "3        22.40       60.10       6.16   3530      0  \n",
            "4         1.44       76.80       2.13  12200      1  \n",
            "..         ...         ...        ...    ...    ...  \n",
            "162       2.62       63.00       3.50   2970      1  \n",
            "163      45.90       75.40       2.47  13500      2  \n",
            "164      12.10       73.10       1.95   1310      1  \n",
            "165      23.60       67.50       4.67   1310      1  \n",
            "166      14.00       52.00       5.40   1460      0  \n",
            "\n",
            "[167 rows x 11 columns]\n"
          ]
        }
      ]
    },
    {
      "cell_type": "markdown",
      "source": [
        "Jika nilai income rendah dan child_mort (kematian anak) tinggi adalah tanda bahwa negara tersebut terbelakang secara ekonomi, maka digunakan fitur income dan child_mort sebagai label untuk gambar boxplot dibawah"
      ],
      "metadata": {
        "id": "cAAazjJeAamm"
      }
    },
    {
      "cell_type": "code",
      "source": [
        "fig, ax = plt.subplots(nrows = 1, ncols = 2, figsize = (15,5))\n",
        "\n",
        "plt.subplot(1,2,1)\n",
        "sns.boxplot(x = 'class', y = 'child_mort', data  = country_data, color = '#FF781F');\n",
        "plt.title('child_mort vs class')\n",
        "\n",
        "plt.subplot(1,2,2)\n",
        "sns.boxplot(x = 'class', y = 'income', data  = country_data, color = '#FF781F');\n",
        "plt.title('income vs class')\n",
        "\n",
        "plt.show()"
      ],
      "metadata": {
        "colab": {
          "base_uri": "https://localhost:8080/",
          "height": 350
        },
        "id": "RsE9TKEl_9ON",
        "outputId": "a2e034b0-1f27-46ae-ff72-b5d1f037ddee"
      },
      "execution_count": null,
      "outputs": [
        {
          "output_type": "display_data",
          "data": {
            "text/plain": [
              "<Figure size 1080x360 with 2 Axes>"
            ],
            "image/png": "[encoded data removed]"
          },
          "metadata": {
            "needs_background": "light"
          }
        }
      ]
    },
    {
      "cell_type": "markdown",
      "source": [
        "Dari hasil plot diatas, disimpulkan:\n",
        "\n",
        "*   0 : Membutuhkan bantuan\n",
        "*   1 : Mungkin butuh bantuan\n",
        "*   2 : Tidak membutuhkan bantuan\n",
        "\n"
      ],
      "metadata": {
        "id": "n6GNB35dMO1Q"
      }
    },
    {
      "cell_type": "code",
      "source": [
        "process_data['class'].loc[process_data['class'] == 0] = 'Membutuhkan bantuan'\n",
        "process_data['class'].loc[process_data['class'] == 1] = 'Mungkin butuh bantuan'\n",
        "process_data['class'].loc[process_data['class'] == 2] = 'Tidak membutuhkan bantuan'\n",
        "\n",
        "print(process_data)"
      ],
      "metadata": {
        "colab": {
          "base_uri": "https://localhost:8080/"
        },
        "id": "Zi6PjfUtO6l8",
        "outputId": "a92df028-2a40-4627-abe2-22a424fdb690"
      },
      "execution_count": null,
      "outputs": [
        {
          "output_type": "stream",
          "name": "stdout",
          "text": [
            "                 country  health  trade  finance                      class\n",
            "0            Afghanistan    0.63   0.14     0.08        Membutuhkan bantuan\n",
            "1                Albania    0.13   0.20     0.09      Mungkin butuh bantuan\n",
            "2                Algeria    0.18   0.19     0.21      Mungkin butuh bantuan\n",
            "3                 Angola    0.66   0.28     0.24        Membutuhkan bantuan\n",
            "4    Antigua and Barbuda    0.12   0.28     0.15      Mungkin butuh bantuan\n",
            "..                   ...     ...    ...      ...                        ...\n",
            "162              Vanuatu    0.22   0.26     0.04      Mungkin butuh bantuan\n",
            "163            Venezuela    0.13   0.12     0.56  Tidak membutuhkan bantuan\n",
            "164              Vietnam    0.17   0.40     0.12      Mungkin butuh bantuan\n",
            "165                Yemen    0.40   0.17     0.23      Mungkin butuh bantuan\n",
            "166               Zambia    0.53   0.18     0.13        Membutuhkan bantuan\n",
            "\n",
            "[167 rows x 5 columns]\n"
          ]
        },
        {
          "output_type": "stream",
          "name": "stderr",
          "text": [
            "/usr/local/lib/python3.8/dist-packages/pandas/core/indexing.py:1732: SettingWithCopyWarning:\n",
            "\n",
            "\n",
            "A value is trying to be set on a copy of a slice from a DataFrame\n",
            "\n",
            "See the caveats in the documentation: https://pandas.pydata.org/pandas-docs/stable/user_guide/indexing.html#returning-a-view-versus-a-copy\n",
            "\n"
          ]
        }
      ]
    },
    {
      "cell_type": "code",
      "source": [
        "# Pembuatan \n",
        "fig = px.choropleth(process_data[['country','class']],\n",
        "                    locationmode = 'country names',\n",
        "                    locations = 'country',\n",
        "                    title = 'Needed Help Per Country (World)',\n",
        "                    color = process_data['class'],  \n",
        "                    color_discrete_map = {\n",
        "                        'Membutuhkan bantuan':'Red',\n",
        "                        'Tidak membutuhkan bantuan':'Green',\n",
        "                        'Mungkin butuh bantuan':'Orange'\n",
        "                    })\n",
        "fig.update_geos(fitbounds = \"locations\", visible = True)\n",
        "fig.update_layout(legend_title_text = 'Labels',legend_title_side = 'top',title_pad_l = 260,title_y = 0.86)\n",
        "fig.show(engine = 'kaleido')"
      ],
      "metadata": {
        "colab": {
          "base_uri": "https://localhost:8080/",
          "height": 542
        },
        "id": "g8Vlzm5tMkvh",
        "outputId": "dd2829d6-fb5e-4a36-9b6f-1c76b813ead0"
      },
      "execution_count": null,
      "outputs": [
        {
          "output_type": "display_data",
          "data": {
            "text/html": [
              "<html>\n",
              "<head><meta charset=\"utf-8\" /></head>\n",
              "<body>\n",
              "    <div>            <script src=\"https://cdnjs.cloudflare.com/ajax/libs/mathjax/2.7.5/MathJax.js?config=TeX-AMS-MML_SVG\"></script><script type=\"text/javascript\">if (window.MathJax) {MathJax.Hub.Config({SVG: {font: \"STIX-Web\"}});}</script>                <script type=\"text/javascript\">window.PlotlyConfig = {MathJaxConfig: 'local'};</script>\n",
              "        <script src=\"https://cdn.plot.ly/plotly-2.8.3.min.js\"></script>                <div id=\"8825d505-018b-4348-ada7-17ee69a28430\" class=\"plotly-graph-div\" style=\"height:525px; width:100%;\"></div>            <script type=\"text/javascript\">                                    window.PLOTLYENV=window.PLOTLYENV || {};                                    if (document.getElementById(\"8825d505-018b-4348-ada7-17ee69a28430\")) {                    Plotly.newPlot(                        \"8825d505-018b-4348-ada7-17ee69a28430\",                        [{\"colorscale\":[[0.0,\"Red\"],[1.0,\"Red\"]],\"geo\":\"geo\",\"hovertemplate\":\"color=Membutuhkan bantuan<br>country=%{location}<extra></extra>\",\"locationmode\":\"country names\",\"locations\":[\"Afghanistan\",\"Angola\",\"Benin\",\"Burkina Faso\",\"Burundi\",\"Cameroon\",\"Central African Republic\",\"Chad\",\"Comoros\",\"Congo, Dem. Rep.\",\"Cote d'Ivoire\",\"Equatorial Guinea\",\"Gambia\",\"Ghana\",\"Guinea\",\"Guinea-Bissau\",\"Haiti\",\"Kiribati\",\"Lesotho\",\"Liberia\",\"Malawi\",\"Mali\",\"Mauritania\",\"Micronesia, Fed. Sts.\",\"Mozambique\",\"Niger\",\"Pakistan\",\"Rwanda\",\"Senegal\",\"Sierra Leone\",\"Sudan\",\"Tanzania\",\"Timor-Leste\",\"Togo\",\"Uganda\",\"Zambia\"],\"name\":\"Membutuhkan bantuan\",\"showlegend\":true,\"showscale\":false,\"z\":[1,1,1,1,1,1,1,1,1,1,1,1,1,1,1,1,1,1,1,1,1,1,1,1,1,1,1,1,1,1,1,1,1,1,1,1],\"type\":\"choropleth\"},{\"colorscale\":[[0.0,\"Orange\"],[1.0,\"Orange\"]],\"geo\":\"geo\",\"hovertemplate\":\"color=Mungkin butuh bantuan<br>country=%{location}<extra></extra>\",\"locationmode\":\"country names\",\"locations\":[\"Albania\",\"Algeria\",\"Antigua and Barbuda\",\"Argentina\",\"Armenia\",\"Azerbaijan\",\"Bahamas\",\"Bangladesh\",\"Barbados\",\"Belarus\",\"Belize\",\"Bhutan\",\"Bolivia\",\"Bosnia and Herzegovina\",\"Botswana\",\"Brazil\",\"Bulgaria\",\"Cambodia\",\"Cape Verde\",\"Chile\",\"China\",\"Colombia\",\"Congo, Rep.\",\"Costa Rica\",\"Croatia\",\"Czech Republic\",\"Dominican Republic\",\"Ecuador\",\"Egypt\",\"El Salvador\",\"Eritrea\",\"Estonia\",\"Fiji\",\"Gabon\",\"Georgia\",\"Greece\",\"Grenada\",\"Guatemala\",\"Guyana\",\"Hungary\",\"India\",\"Indonesia\",\"Iran\",\"Iraq\",\"Israel\",\"Jamaica\",\"Jordan\",\"Kazakhstan\",\"Kenya\",\"Kyrgyz Republic\",\"Lao\",\"Latvia\",\"Lebanon\",\"Libya\",\"Lithuania\",\"Macedonia, FYR\",\"Madagascar\",\"Malaysia\",\"Maldives\",\"Malta\",\"Mauritius\",\"Moldova\",\"Montenegro\",\"Morocco\",\"Myanmar\",\"Namibia\",\"Nepal\",\"Panama\",\"Paraguay\",\"Peru\",\"Philippines\",\"Poland\",\"Portugal\",\"Romania\",\"Russia\",\"Samoa\",\"Serbia\",\"Seychelles\",\"Slovak Republic\",\"Slovenia\",\"Solomon Islands\",\"South Africa\",\"South Korea\",\"Spain\",\"Sri Lanka\",\"St. Vincent and the Grenadines\",\"Suriname\",\"Tajikistan\",\"Thailand\",\"Tonga\",\"Tunisia\",\"Turkey\",\"Turkmenistan\",\"Ukraine\",\"Uruguay\",\"Uzbekistan\",\"Vanuatu\",\"Vietnam\",\"Yemen\"],\"name\":\"Mungkin butuh bantuan\",\"showlegend\":true,\"showscale\":false,\"z\":[1,1,1,1,1,1,1,1,1,1,1,1,1,1,1,1,1,1,1,1,1,1,1,1,1,1,1,1,1,1,1,1,1,1,1,1,1,1,1,1,1,1,1,1,1,1,1,1,1,1,1,1,1,1,1,1,1,1,1,1,1,1,1,1,1,1,1,1,1,1,1,1,1,1,1,1,1,1,1,1,1,1,1,1,1,1,1,1,1,1,1,1,1,1,1,1,1,1,1],\"type\":\"choropleth\"},{\"colorscale\":[[0.0,\"Green\"],[1.0,\"Green\"]],\"geo\":\"geo\",\"hovertemplate\":\"color=Tidak membutuhkan bantuan<br>country=%{location}<extra></extra>\",\"locationmode\":\"country names\",\"locations\":[\"Australia\",\"Austria\",\"Bahrain\",\"Belgium\",\"Brunei\",\"Canada\",\"Cyprus\",\"Denmark\",\"Finland\",\"France\",\"Germany\",\"Iceland\",\"Ireland\",\"Italy\",\"Japan\",\"Kuwait\",\"Luxembourg\",\"Mongolia\",\"Netherlands\",\"New Zealand\",\"Nigeria\",\"Norway\",\"Oman\",\"Qatar\",\"Saudi Arabia\",\"Singapore\",\"Sweden\",\"Switzerland\",\"United Arab Emirates\",\"United Kingdom\",\"United States\",\"Venezuela\"],\"name\":\"Tidak membutuhkan bantuan\",\"showlegend\":true,\"showscale\":false,\"z\":[1,1,1,1,1,1,1,1,1,1,1,1,1,1,1,1,1,1,1,1,1,1,1,1,1,1,1,1,1,1,1,1],\"type\":\"choropleth\"}],                        {\"template\":{\"data\":{\"bar\":[{\"error_x\":{\"color\":\"#2a3f5f\"},\"error_y\":{\"color\":\"#2a3f5f\"},\"marker\":{\"line\":{\"color\":\"#E5ECF6\",\"width\":0.5},\"pattern\":{\"fillmode\":\"overlay\",\"size\":10,\"solidity\":0.2}},\"type\":\"bar\"}],\"barpolar\":[{\"marker\":{\"line\":{\"color\":\"#E5ECF6\",\"width\":0.5},\"pattern\":{\"fillmode\":\"overlay\",\"size\":10,\"solidity\":0.2}},\"type\":\"barpolar\"}],\"carpet\":[{\"aaxis\":{\"endlinecolor\":\"#2a3f5f\",\"gridcolor\":\"white\",\"linecolor\":\"white\",\"minorgridcolor\":\"white\",\"startlinecolor\":\"#2a3f5f\"},\"baxis\":{\"endlinecolor\":\"#2a3f5f\",\"gridcolor\":\"white\",\"linecolor\":\"white\",\"minorgridcolor\":\"white\",\"startlinecolor\":\"#2a3f5f\"},\"type\":\"carpet\"}],\"choropleth\":[{\"colorbar\":{\"outlinewidth\":0,\"ticks\":\"\"},\"type\":\"choropleth\"}],\"contour\":[{\"colorbar\":{\"outlinewidth\":0,\"ticks\":\"\"},\"colorscale\":[[0.0,\"#0d0887\"],[0.1111111111111111,\"#46039f\"],[0.2222222222222222,\"#7201a8\"],[0.3333333333333333,\"#9c179e\"],[0.4444444444444444,\"#bd3786\"],[0.5555555555555556,\"#d8576b\"],[0.6666666666666666,\"#ed7953\"],[0.7777777777777778,\"#fb9f3a\"],[0.8888888888888888,\"#fdca26\"],[1.0,\"#f0f921\"]],\"type\":\"contour\"}],\"contourcarpet\":[{\"colorbar\":{\"outlinewidth\":0,\"ticks\":\"\"},\"type\":\"contourcarpet\"}],\"heatmap\":[{\"colorbar\":{\"outlinewidth\":0,\"ticks\":\"\"},\"colorscale\":[[0.0,\"#0d0887\"],[0.1111111111111111,\"#46039f\"],[0.2222222222222222,\"#7201a8\"],[0.3333333333333333,\"#9c179e\"],[0.4444444444444444,\"#bd3786\"],[0.5555555555555556,\"#d8576b\"],[0.6666666666666666,\"#ed7953\"],[0.7777777777777778,\"#fb9f3a\"],[0.8888888888888888,\"#fdca26\"],[1.0,\"#f0f921\"]],\"type\":\"heatmap\"}],\"heatmapgl\":[{\"colorbar\":{\"outlinewidth\":0,\"ticks\":\"\"},\"colorscale\":[[0.0,\"#0d0887\"],[0.1111111111111111,\"#46039f\"],[0.2222222222222222,\"#7201a8\"],[0.3333333333333333,\"#9c179e\"],[0.4444444444444444,\"#bd3786\"],[0.5555555555555556,\"#d8576b\"],[0.6666666666666666,\"#ed7953\"],[0.7777777777777778,\"#fb9f3a\"],[0.8888888888888888,\"#fdca26\"],[1.0,\"#f0f921\"]],\"type\":\"heatmapgl\"}],\"histogram\":[{\"marker\":{\"pattern\":{\"fillmode\":\"overlay\",\"size\":10,\"solidity\":0.2}},\"type\":\"histogram\"}],\"histogram2d\":[{\"colorbar\":{\"outlinewidth\":0,\"ticks\":\"\"},\"colorscale\":[[0.0,\"#0d0887\"],[0.1111111111111111,\"#46039f\"],[0.2222222222222222,\"#7201a8\"],[0.3333333333333333,\"#9c179e\"],[0.4444444444444444,\"#bd3786\"],[0.5555555555555556,\"#d8576b\"],[0.6666666666666666,\"#ed7953\"],[0.7777777777777778,\"#fb9f3a\"],[0.8888888888888888,\"#fdca26\"],[1.0,\"#f0f921\"]],\"type\":\"histogram2d\"}],\"histogram2dcontour\":[{\"colorbar\":{\"outlinewidth\":0,\"ticks\":\"\"},\"colorscale\":[[0.0,\"#0d0887\"],[0.1111111111111111,\"#46039f\"],[0.2222222222222222,\"#7201a8\"],[0.3333333333333333,\"#9c179e\"],[0.4444444444444444,\"#bd3786\"],[0.5555555555555556,\"#d8576b\"],[0.6666666666666666,\"#ed7953\"],[0.7777777777777778,\"#fb9f3a\"],[0.8888888888888888,\"#fdca26\"],[1.0,\"#f0f921\"]],\"type\":\"histogram2dcontour\"}],\"mesh3d\":[{\"colorbar\":{\"outlinewidth\":0,\"ticks\":\"\"},\"type\":\"mesh3d\"}],\"parcoords\":[{\"line\":{\"colorbar\":{\"outlinewidth\":0,\"ticks\":\"\"}},\"type\":\"parcoords\"}],\"pie\":[{\"automargin\":true,\"type\":\"pie\"}],\"scatter\":[{\"marker\":{\"colorbar\":{\"outlinewidth\":0,\"ticks\":\"\"}},\"type\":\"scatter\"}],\"scatter3d\":[{\"line\":{\"colorbar\":{\"outlinewidth\":0,\"ticks\":\"\"}},\"marker\":{\"colorbar\":{\"outlinewidth\":0,\"ticks\":\"\"}},\"type\":\"scatter3d\"}],\"scattercarpet\":[{\"marker\":{\"colorbar\":{\"outlinewidth\":0,\"ticks\":\"\"}},\"type\":\"scattercarpet\"}],\"scattergeo\":[{\"marker\":{\"colorbar\":{\"outlinewidth\":0,\"ticks\":\"\"}},\"type\":\"scattergeo\"}],\"scattergl\":[{\"marker\":{\"colorbar\":{\"outlinewidth\":0,\"ticks\":\"\"}},\"type\":\"scattergl\"}],\"scattermapbox\":[{\"marker\":{\"colorbar\":{\"outlinewidth\":0,\"ticks\":\"\"}},\"type\":\"scattermapbox\"}],\"scatterpolar\":[{\"marker\":{\"colorbar\":{\"outlinewidth\":0,\"ticks\":\"\"}},\"type\":\"scatterpolar\"}],\"scatterpolargl\":[{\"marker\":{\"colorbar\":{\"outlinewidth\":0,\"ticks\":\"\"}},\"type\":\"scatterpolargl\"}],\"scatterternary\":[{\"marker\":{\"colorbar\":{\"outlinewidth\":0,\"ticks\":\"\"}},\"type\":\"scatterternary\"}],\"surface\":[{\"colorbar\":{\"outlinewidth\":0,\"ticks\":\"\"},\"colorscale\":[[0.0,\"#0d0887\"],[0.1111111111111111,\"#46039f\"],[0.2222222222222222,\"#7201a8\"],[0.3333333333333333,\"#9c179e\"],[0.4444444444444444,\"#bd3786\"],[0.5555555555555556,\"#d8576b\"],[0.6666666666666666,\"#ed7953\"],[0.7777777777777778,\"#fb9f3a\"],[0.8888888888888888,\"#fdca26\"],[1.0,\"#f0f921\"]],\"type\":\"surface\"}],\"table\":[{\"cells\":{\"fill\":{\"color\":\"#EBF0F8\"},\"line\":{\"color\":\"white\"}},\"header\":{\"fill\":{\"color\":\"#C8D4E3\"},\"line\":{\"color\":\"white\"}},\"type\":\"table\"}]},\"layout\":{\"annotationdefaults\":{\"arrowcolor\":\"#2a3f5f\",\"arrowhead\":0,\"arrowwidth\":1},\"autotypenumbers\":\"strict\",\"coloraxis\":{\"colorbar\":{\"outlinewidth\":0,\"ticks\":\"\"}},\"colorscale\":{\"diverging\":[[0,\"#8e0152\"],[0.1,\"#c51b7d\"],[0.2,\"#de77ae\"],[0.3,\"#f1b6da\"],[0.4,\"#fde0ef\"],[0.5,\"#f7f7f7\"],[0.6,\"#e6f5d0\"],[0.7,\"#b8e186\"],[0.8,\"#7fbc41\"],[0.9,\"#4d9221\"],[1,\"#276419\"]],\"sequential\":[[0.0,\"#0d0887\"],[0.1111111111111111,\"#46039f\"],[0.2222222222222222,\"#7201a8\"],[0.3333333333333333,\"#9c179e\"],[0.4444444444444444,\"#bd3786\"],[0.5555555555555556,\"#d8576b\"],[0.6666666666666666,\"#ed7953\"],[0.7777777777777778,\"#fb9f3a\"],[0.8888888888888888,\"#fdca26\"],[1.0,\"#f0f921\"]],\"sequentialminus\":[[0.0,\"#0d0887\"],[0.1111111111111111,\"#46039f\"],[0.2222222222222222,\"#7201a8\"],[0.3333333333333333,\"#9c179e\"],[0.4444444444444444,\"#bd3786\"],[0.5555555555555556,\"#d8576b\"],[0.6666666666666666,\"#ed7953\"],[0.7777777777777778,\"#fb9f3a\"],[0.8888888888888888,\"#fdca26\"],[1.0,\"#f0f921\"]]},\"colorway\":[\"#636efa\",\"#EF553B\",\"#00cc96\",\"#ab63fa\",\"#FFA15A\",\"#19d3f3\",\"#FF6692\",\"#B6E880\",\"#FF97FF\",\"#FECB52\"],\"font\":{\"color\":\"#2a3f5f\"},\"geo\":{\"bgcolor\":\"white\",\"lakecolor\":\"white\",\"landcolor\":\"#E5ECF6\",\"showlakes\":true,\"showland\":true,\"subunitcolor\":\"white\"},\"hoverlabel\":{\"align\":\"left\"},\"hovermode\":\"closest\",\"mapbox\":{\"style\":\"light\"},\"paper_bgcolor\":\"white\",\"plot_bgcolor\":\"#E5ECF6\",\"polar\":{\"angularaxis\":{\"gridcolor\":\"white\",\"linecolor\":\"white\",\"ticks\":\"\"},\"bgcolor\":\"#E5ECF6\",\"radialaxis\":{\"gridcolor\":\"white\",\"linecolor\":\"white\",\"ticks\":\"\"}},\"scene\":{\"xaxis\":{\"backgroundcolor\":\"#E5ECF6\",\"gridcolor\":\"white\",\"gridwidth\":2,\"linecolor\":\"white\",\"showbackground\":true,\"ticks\":\"\",\"zerolinecolor\":\"white\"},\"yaxis\":{\"backgroundcolor\":\"#E5ECF6\",\"gridcolor\":\"white\",\"gridwidth\":2,\"linecolor\":\"white\",\"showbackground\":true,\"ticks\":\"\",\"zerolinecolor\":\"white\"},\"zaxis\":{\"backgroundcolor\":\"#E5ECF6\",\"gridcolor\":\"white\",\"gridwidth\":2,\"linecolor\":\"white\",\"showbackground\":true,\"ticks\":\"\",\"zerolinecolor\":\"white\"}},\"shapedefaults\":{\"line\":{\"color\":\"#2a3f5f\"}},\"ternary\":{\"aaxis\":{\"gridcolor\":\"white\",\"linecolor\":\"white\",\"ticks\":\"\"},\"baxis\":{\"gridcolor\":\"white\",\"linecolor\":\"white\",\"ticks\":\"\"},\"bgcolor\":\"#E5ECF6\",\"caxis\":{\"gridcolor\":\"white\",\"linecolor\":\"white\",\"ticks\":\"\"}},\"title\":{\"x\":0.05},\"xaxis\":{\"automargin\":true,\"gridcolor\":\"white\",\"linecolor\":\"white\",\"ticks\":\"\",\"title\":{\"standoff\":15},\"zerolinecolor\":\"white\",\"zerolinewidth\":2},\"yaxis\":{\"automargin\":true,\"gridcolor\":\"white\",\"linecolor\":\"white\",\"ticks\":\"\",\"title\":{\"standoff\":15},\"zerolinecolor\":\"white\",\"zerolinewidth\":2}}},\"geo\":{\"domain\":{\"x\":[0.0,1.0],\"y\":[0.0,1.0]},\"center\":{},\"fitbounds\":\"locations\",\"visible\":true},\"legend\":{\"title\":{\"text\":\"Labels\",\"side\":\"top\"},\"tracegroupgap\":0},\"title\":{\"text\":\"Needed Help Per Country (World)\",\"pad\":{\"l\":260},\"y\":0.86}},                        {\"responsive\": true}                    ).then(function(){\n",
              "                            \n",
              "var gd = document.getElementById('8825d505-018b-4348-ada7-17ee69a28430');\n",
              "var x = new MutationObserver(function (mutations, observer) {{\n",
              "        var display = window.getComputedStyle(gd).display;\n",
              "        if (!display || display === 'none') {{\n",
              "            console.log([gd, 'removed!']);\n",
              "            Plotly.purge(gd);\n",
              "            observer.disconnect();\n",
              "        }}\n",
              "}});\n",
              "\n",
              "// Listen for the removal of the full notebook cells\n",
              "var notebookContainer = gd.closest('#notebook-container');\n",
              "if (notebookContainer) {{\n",
              "    x.observe(notebookContainer, {childList: true});\n",
              "}}\n",
              "\n",
              "// Listen for the clearing of the current output cell\n",
              "var outputEl = gd.closest('.output');\n",
              "if (outputEl) {{\n",
              "    x.observe(outputEl, {childList: true});\n",
              "}}\n",
              "\n",
              "                        })                };                            </script>        </div>\n",
              "</body>\n",
              "</html>"
            ]
          },
          "metadata": {}
        }
      ]
    },
    {
      "cell_type": "code",
      "source": [
        "print('Jumlah negara yang membutuhkan bantuan => {} negara'.format(process_data['class'].value_counts()[0]))\n",
        "print('Jumlah negara yang mungkin butuh bantuan => {} negara'.format(process_data['class'].value_counts()[2]))\n",
        "print('Jumlah negara yang tidak membutuhkan bantuan => {} negara'.format(process_data['class'].value_counts()[1]))"
      ],
      "metadata": {
        "colab": {
          "base_uri": "https://localhost:8080/"
        },
        "id": "lc5qTlz3S7Ox",
        "outputId": "f09bdeb4-3bd6-4f9f-b194-9e9621af3d22"
      },
      "execution_count": null,
      "outputs": [
        {
          "output_type": "stream",
          "name": "stdout",
          "text": [
            "Jumlah negara yang membutuhkan bantuan => 99 negara\n",
            "Jumlah negara yang mungkin butuh bantuan => 32 negara\n",
            "Jumlah negara yang tidak membutuhkan bantuan => 36 negara\n"
          ]
        }
      ]
    },
    {
      "cell_type": "markdown",
      "source": [
        "# Save hasil cluster ke xlsx"
      ],
      "metadata": {
        "id": "za6_cuZ3S08o"
      }
    },
    {
      "cell_type": "code",
      "source": [
        "country_data['labels'] = process_data['class']\n",
        "country_data.to_excel('output.xlsx', index=False)"
      ],
      "metadata": {
        "id": "EbL_0ns6SzGN"
      },
      "execution_count": null,
      "outputs": []
    }
  ]
}